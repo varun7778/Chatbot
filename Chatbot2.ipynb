{
 "cells": [
  {
   "cell_type": "code",
   "execution_count": 688,
   "metadata": {},
   "outputs": [],
   "source": [
    "import numpy as np\n",
    "import pandas as pd\n",
    "import re\n",
    "import tensorflow as tf\n",
    "import time"
   ]
  },
  {
   "cell_type": "code",
   "execution_count": 617,
   "metadata": {},
   "outputs": [],
   "source": [
    "display_step = 300\n",
    "epochs = 13\n",
    "batch_size = 128\n",
    "rnn_size = 128\n",
    "num_layers = 3\n",
    "encoding_embedding_size = 200\n",
    "decoding_embedding_size = 200\n",
    "learning_rate = 0.001\n",
    "keep_probability = 0.5"
   ]
  },
  {
   "cell_type": "code",
   "execution_count": 618,
   "metadata": {},
   "outputs": [],
   "source": [
    "lines = open('movie_lines.txt',encoding='utf-8',errors='ignore').read().split('\\n')\n",
    "conversations = open('movie_conversations.txt',encoding='utf-8',errors='ignore').read().split('\\n')"
   ]
  },
  {
   "cell_type": "code",
   "execution_count": 619,
   "metadata": {},
   "outputs": [],
   "source": [
    "id2line = {}\n",
    "for line in lines:\n",
    "    _line = line.split(' +++$+++ ')\n",
    "    #print(_line)\n",
    "    if len(_line) == 5:\n",
    "        id2line[_line[0]] = _line[4]"
   ]
  },
  {
   "cell_type": "code",
   "execution_count": 620,
   "metadata": {},
   "outputs": [],
   "source": [
    "conversation_ids = []"
   ]
  },
  {
   "cell_type": "code",
   "execution_count": 621,
   "metadata": {},
   "outputs": [],
   "source": [
    "for conversation in conversations:\n",
    "    _conversation= conversation.split(' +++$+++ ')[-1][1:-1].replace(\"'\",\"\").replace(\" \",\"\")\n",
    "    conversation_ids.append(_conversation.split(\",\"))"
   ]
  },
  {
   "cell_type": "code",
   "execution_count": 622,
   "metadata": {},
   "outputs": [],
   "source": [
    "questions = []\n",
    "answers =[]"
   ]
  },
  {
   "cell_type": "code",
   "execution_count": 623,
   "metadata": {},
   "outputs": [],
   "source": [
    "for conversation in conversation_ids:\n",
    "    if len(conversation)%2 == 0:\n",
    "        for i in range(0,(len(conversation) - 1),2):\n",
    "            questions.append(id2line[conversation[i]])\n",
    "            answers.append(id2line[conversation[i+1]])"
   ]
  },
  {
   "cell_type": "code",
   "execution_count": 624,
   "metadata": {},
   "outputs": [],
   "source": [
    "#cleaning function\n",
    "def clean_text(text):\n",
    "    text = text.lower()\n",
    "    text = re.sub(r\"i'm\",\"i am\",text)\n",
    "    text = re.sub(r\"he's\",\"he is\",text)\n",
    "    text = re.sub(r\"she's\",\"she is\",text)\n",
    "    text = re.sub(r\"that's\",\"that is\",text)\n",
    "    text = re.sub(r\"what's\",\"what is\",text)\n",
    "    text = re.sub(r\"where's\",\"where is\",text)\n",
    "    text = re.sub(r\"\\'ll\",\" will\",text)\n",
    "    text = re.sub(r\"\\'ve\",\" have\",text)\n",
    "    text = re.sub(r\"\\'re\",\" are\",text)\n",
    "    text = re.sub(r\"\\'d\",\" would\",text)\n",
    "    text = re.sub(r\"won't\",\"will not\",text)\n",
    "    text = re.sub(r\"can't\",\"cannot\",text)\n",
    "    text = re.sub(r\"[-()\\\"\\',.?:;+=-@#<>/|]\",\"\",text)\n",
    "    return text"
   ]
  },
  {
   "cell_type": "code",
   "execution_count": 625,
   "metadata": {},
   "outputs": [],
   "source": [
    "#cleaning the questions\n",
    "clean_questions = []\n",
    "for question in questions:\n",
    "    clean_questions.append(clean_text(question))\n",
    "\n",
    "#cleaning answers\n",
    "clean_answers = []\n",
    "for answer in answers:\n",
    "    clean_answers.append(clean_text(answer))"
   ]
  },
  {
   "cell_type": "code",
   "execution_count": 626,
   "metadata": {},
   "outputs": [],
   "source": [
    "threshold = 10\n",
    "questionwordstoint = {}"
   ]
  },
  {
   "cell_type": "code",
   "execution_count": 627,
   "metadata": {},
   "outputs": [],
   "source": [
    "word2count = {}\n",
    "qnswordcount={}"
   ]
  },
  {
   "cell_type": "code",
   "execution_count": 628,
   "metadata": {},
   "outputs": [],
   "source": [
    "for question in clean_questions:\n",
    "    words = question.split()\n",
    "    for word in words:\n",
    "        if word not in word2count:\n",
    "            word2count[word] = 1\n",
    "        else:\n",
    "            word2count[word] += 1"
   ]
  },
  {
   "cell_type": "code",
   "execution_count": 629,
   "metadata": {},
   "outputs": [],
   "source": [
    "for question in clean_questions:\n",
    "    words = question.split()\n",
    "    for word in words:\n",
    "        if word not in qnswordcount:\n",
    "            qnswordcount[word] = 1\n",
    "        else:\n",
    "            qnswordcount[word] += 1"
   ]
  },
  {
   "cell_type": "code",
   "execution_count": 630,
   "metadata": {},
   "outputs": [],
   "source": [
    "for answer in clean_answers:\n",
    "    words = answer.split()\n",
    "    for word in words:\n",
    "        if word not in word2count:\n",
    "            word2count[word] = 1\n",
    "        else:\n",
    "            word2count[word] += 1"
   ]
  },
  {
   "cell_type": "code",
   "execution_count": 631,
   "metadata": {},
   "outputs": [],
   "source": [
    "answordcount={}"
   ]
  },
  {
   "cell_type": "code",
   "execution_count": 632,
   "metadata": {},
   "outputs": [],
   "source": [
    "  for answer in clean_answers:\n",
    "    words = answer.split()\n",
    "    for word in words:\n",
    "        if word not in answordcount:\n",
    "            answordcount[word] = 1\n",
    "        else:\n",
    "            answordcount[word] += 1"
   ]
  },
  {
   "cell_type": "code",
   "execution_count": 633,
   "metadata": {},
   "outputs": [],
   "source": [
    "qdic = {}\n",
    "number =0       \n",
    "for word,num in qnswordcount.items():\n",
    "    if num >= threshold:\n",
    "        qdic[word] = number\n",
    "        number += 1"
   ]
  },
  {
   "cell_type": "code",
   "execution_count": 634,
   "metadata": {},
   "outputs": [],
   "source": [
    "adic = {}\n",
    "number =0 \n",
    "for word,num in answordcount.items():\n",
    "    if num >= threshold:\n",
    "        adic[word] = number\n",
    "        number += 1"
   ]
  },
  {
   "cell_type": "code",
   "execution_count": 635,
   "metadata": {},
   "outputs": [],
   "source": [
    "number=0\n",
    "for word,num in qnswordcount.items():\n",
    "    if num >= threshold:\n",
    "        questionwordstoint[number] = num\n",
    "        number += 1"
   ]
  },
  {
   "cell_type": "code",
   "execution_count": 636,
   "metadata": {},
   "outputs": [],
   "source": [
    "answerwordtoint = {}\n",
    "number = 0\n",
    "for word,num in answordcount.items():\n",
    "        if num >= threshold:\n",
    "                answerwordtoint[number] = num\n",
    "                number += 1"
   ]
  },
  {
   "cell_type": "code",
   "execution_count": 637,
   "metadata": {},
   "outputs": [],
   "source": [
    "tokens = ['<PAD>','<EOS>','<UNK>','<SOS>']"
   ]
  },
  {
   "cell_type": "code",
   "execution_count": 638,
   "metadata": {},
   "outputs": [],
   "source": [
    "questionwordstoint['<PAD>']=4545\n",
    "questionwordstoint['<EOS>']=4546\n",
    "questionwordstoint['<UNK>']=4547\n",
    "questionwordstoint['<SOS>']=4548"
   ]
  },
  {
   "cell_type": "code",
   "execution_count": 639,
   "metadata": {},
   "outputs": [],
   "source": [
    "answerwordtoint['<PAD>']=4811\n",
    "answerwordtoint['<EOS>']=4812\n",
    "answerwordtoint['<UNK>']=4812\n",
    "answerwordtoint['<SOS>']=4813"
   ]
  },
  {
   "cell_type": "code",
   "execution_count": 640,
   "metadata": {},
   "outputs": [],
   "source": [
    "qdic['<PAD>']=4545\n",
    "qdic['<EOS>']=4546\n",
    "qdic['<UNK>']=4547\n",
    "qdic['<SOS>']=4548"
   ]
  },
  {
   "cell_type": "code",
   "execution_count": 641,
   "metadata": {},
   "outputs": [],
   "source": [
    "adic['<PAD>']=4811\n",
    "adic['<EOS>']=4812\n",
    "adic['<UNK>']=4813\n",
    "adic['<SOS>']=4814"
   ]
  },
  {
   "cell_type": "code",
   "execution_count": 642,
   "metadata": {},
   "outputs": [],
   "source": [
    "answerinttoword = {w_i:w for w,w_i in answerwordtoint.items()}"
   ]
  },
  {
   "cell_type": "code",
   "execution_count": 643,
   "metadata": {},
   "outputs": [],
   "source": [
    "questioninttoword  = {w_i:w for w,w_i in questionwordstoint.items()}"
   ]
  },
  {
   "cell_type": "code",
   "execution_count": 644,
   "metadata": {},
   "outputs": [],
   "source": [
    "questionsintoint = []\n",
    "answersintoint = []"
   ]
  },
  {
   "cell_type": "code",
   "execution_count": 645,
   "metadata": {},
   "outputs": [],
   "source": [
    "for question in clean_questions:\n",
    "    inta = []\n",
    "    for word in question.split():\n",
    "        if word in qdic:\n",
    "            inta.append(qdic[word])\n",
    "        else:           \n",
    "            inta.append(questionwordstoint['<UNK>'])\n",
    "    questionsintoint.append(inta)"
   ]
  },
  {
   "cell_type": "code",
   "execution_count": 646,
   "metadata": {},
   "outputs": [],
   "source": [
    "for answer in clean_answers:\n",
    "    ints = []\n",
    "    for word in answer.split():\n",
    "        if word in adic:\n",
    "            ints.append(adic[word])\n",
    "        else:\n",
    "            ints.append(answerwordtoint['<UNK>'])\n",
    "    answersintoint.append(ints)"
   ]
  },
  {
   "cell_type": "code",
   "execution_count": 647,
   "metadata": {},
   "outputs": [],
   "source": [
    "for i in range(len(answersintoint)):\n",
    "        answersintoint[i].append(answerwordtoint['<EOS>'])"
   ]
  },
  {
   "cell_type": "code",
   "execution_count": 648,
   "metadata": {},
   "outputs": [],
   "source": [
    "for i in range(len(questionsintoint)):\n",
    "        questionsintoint[i].append(questionwordstoint['<EOS>'])"
   ]
  },
  {
   "cell_type": "code",
   "execution_count": 649,
   "metadata": {},
   "outputs": [],
   "source": [
    "    maximum = len(questionsintoint[ 0 ])\n",
    "    for a in questionsintoint:\n",
    "        if len(a) > maximum:\n",
    "            maximum = len(a)"
   ]
  },
  {
   "cell_type": "code",
   "execution_count": 650,
   "metadata": {},
   "outputs": [],
   "source": [
    "sorted_clean_questions = []\n",
    "sorted_clean_answers = []\n",
    "for length in range(1,maximum+1):\n",
    "        for i in enumerate(questionsintoint):\n",
    "                if len(i[1]) == length:\n",
    "                        sorted_clean_questions.append(questionsintoint[i[0]])\n",
    "                        sorted_clean_answers.append(answersintoint[i[0]])"
   ]
  },
  {
   "cell_type": "code",
   "execution_count": 651,
   "metadata": {},
   "outputs": [],
   "source": [
    "def model_inputs():\n",
    "    inputs = tf.placeholder(tf.int32, [None, None], name='input')\n",
    "    targets = tf.placeholder(tf.int32, [None, None], name='targets') \n",
    "    target_sequence_length = tf.placeholder(tf.int32, [None], name='target_sequence_length')\n",
    "    max_target_len = tf.reduce_max(target_sequence_length) \n",
    "    lr = tf.placeholder(tf.float32, name='learning_rate')\n",
    "    keep_prob = tf.placeholder(tf.float32, name='keep_prob')   \n",
    "    return inputs, targets, target_sequence_length, max_target_len, lr, keep_prob"
   ]
  },
  {
   "cell_type": "code",
   "execution_count": 652,
   "metadata": {},
   "outputs": [],
   "source": [
    "def process_decoder_input(target_data, target_vocab_to_int, batch_size):\n",
    "    go_id = target_vocab_to_int['<SOS>']\n",
    "    after_slice = tf.strided_slice(target_data, [0, 0], [batch_size, -1], [1, 1])\n",
    "    after_concat = tf.concat( [tf.fill([batch_size, 1], go_id), after_slice], 1)\n",
    "    return after_concat"
   ]
  },
  {
   "cell_type": "code",
   "execution_count": 653,
   "metadata": {},
   "outputs": [],
   "source": [
    "def encoding_layer(rnn_inputs, rnn_size, num_layers, keep_prob,source_vocab_size,encoding_embedding_size):\n",
    "    #len(adic)=source_vocab_size\n",
    "    #encoding_embedding_size=200\n",
    "    \"\"\"\n",
    "    :return: tuple (RNN output, RNN state)\n",
    "    \"\"\"\n",
    "    embed = tf.contrib.layers.embed_sequence(rnn_inputs,vocab_size=source_vocab_size,embed_dim=encoding_embedding_size)\n",
    "    \n",
    "    stacked_cells = tf.contrib.rnn.MultiRNNCell([tf.contrib.rnn.DropoutWrapper(tf.contrib.rnn.LSTMCell(rnn_size), keep_prob) for _ in range(num_layers)])\n",
    "    \n",
    "    outputs, state = tf.nn.dynamic_rnn(stacked_cells,embed,dtype=tf.float32)\n",
    "    return outputs, state"
   ]
  },
  {
   "cell_type": "code",
   "execution_count": 654,
   "metadata": {},
   "outputs": [],
   "source": [
    "def decoding_layer_train(encoder_state, dec_cell, dec_embed_input,target_sequence_length, max_summary_length,output_layer,\n",
    "                         keep_prob):\n",
    "    \"\"\"\n",
    "    Create a training process in decoding layer \n",
    "    :return: BasicDecoderOutput containing training logits and sample_id\n",
    "    \"\"\"\n",
    "    dec_cell = tf.contrib.rnn.DropoutWrapper(dec_cell,output_keep_prob=keep_prob)\n",
    "    \n",
    "    # for only input layer\n",
    "    helper = tf.contrib.seq2seq.TrainingHelper(dec_embed_input,target_sequence_length)\n",
    "    \n",
    "    decoder = tf.contrib.seq2seq.BasicDecoder(dec_cell,helper,encoder_state,output_layer)\n",
    "\n",
    "    # unrolling the decoder layer\n",
    "    outputs, _, _ = tf.contrib.seq2seq.dynamic_decode(decoder,impute_finished=True,maximum_iterations=max_summary_length)\n",
    "    return outputs"
   ]
  },
  {
   "cell_type": "code",
   "execution_count": 655,
   "metadata": {},
   "outputs": [],
   "source": [
    "def decoding_layer_infer(encoder_state, dec_cell, dec_embeddings, start_of_sequence_id,end_of_sequence_id,\n",
    "                         max_target_sequence_length,vocab_size, output_layer, batch_size, keep_prob):\n",
    "    \"\"\"\n",
    "    Create a inference process in decoding layer \n",
    "    :return: BasicDecoderOutput containing inference logits and sample_id\n",
    "    \"\"\"\n",
    "    dec_cell = tf.contrib.rnn.DropoutWrapper(dec_cell,output_keep_prob=keep_prob)\n",
    "    \n",
    "    helper = tf.contrib.seq2seq.GreedyEmbeddingHelper(dec_embeddings,tf.fill([batch_size], start_of_sequence_id),\n",
    "                                                      end_of_sequence_id)\n",
    "    \n",
    "    decoder = tf.contrib.seq2seq.BasicDecoder(dec_cell,helper,encoder_state,output_layer)\n",
    "    \n",
    "    outputs, _, _ = tf.contrib.seq2seq.dynamic_decode(decoder,impute_finished=True,maximum_iterations=max_target_sequence_length)\n",
    "    return outputs"
   ]
  },
  {
   "cell_type": "code",
   "execution_count": 656,
   "metadata": {},
   "outputs": [],
   "source": [
    "def decoding_layer(dec_input, encoder_state,target_sequence_length, max_target_sequence_length,rnn_size,num_layers, \n",
    "                   target_vocab_to_int, target_vocab_size,batch_size, keep_prob, decoding_embedding_size):\n",
    "    \"\"\"\n",
    "    Create decoding layer\n",
    "    :return: Tuple of (Training BasicDecoderOutput, Inference BasicDecoderOutput)\n",
    "    \"\"\"\n",
    "    target_vocab_size = len(target_vocab_to_int)\n",
    "    dec_embeddings = tf.Variable(tf.random_uniform([target_vocab_size, decoding_embedding_size]))\n",
    "    dec_embed_input = tf.nn.embedding_lookup(dec_embeddings, dec_input)\n",
    "    \n",
    "    cells = tf.contrib.rnn.MultiRNNCell([tf.contrib.rnn.LSTMCell(rnn_size) for _ in range(num_layers)])\n",
    "    \n",
    "    with tf.variable_scope(\"decode\"):\n",
    "        output_layer = tf.layers.Dense(target_vocab_size)\n",
    "        train_output = decoding_layer_train(encoder_state,cells,dec_embed_input,target_sequence_length,\n",
    "                                            max_target_sequence_length,output_layer,keep_prob)\n",
    "\n",
    "    with tf.variable_scope(\"decode\", reuse=True):\n",
    "        infer_output = decoding_layer_infer(encoder_state,cells,dec_embeddings,target_vocab_to_int['<SOS>'],\n",
    "                                            target_vocab_to_int['<EOS>'],max_target_sequence_length,target_vocab_size, \n",
    "                                            output_layer,batch_size,keep_prob)\n",
    "\n",
    "    return (train_output, infer_output)"
   ]
  },
  {
   "cell_type": "code",
   "execution_count": 657,
   "metadata": {},
   "outputs": [],
   "source": [
    "def seq2seq_model(input_data, target_data, keep_prob, batch_size,target_sequence_length,max_target_sentence_length,\n",
    "      source_vocab_size, target_vocab_size,enc_embedding_size, dec_embedding_size,rnn_size, num_layers, target_vocab_to_int):\n",
    "    \"\"\"\n",
    "    Build the Sequence-to-Sequence model\n",
    "    :return: Tuple of (Training BasicDecoderOutput, Inference BasicDecoderOutput)\n",
    "    \"\"\"\n",
    "    enc_outputs, enc_states = encoding_layer(input_data,rnn_size,num_layers,keep_prob,source_vocab_size,enc_embedding_size)\n",
    "    \n",
    "    dec_input = process_decoder_input(target_data,target_vocab_to_int,batch_size)\n",
    "    \n",
    "    train_output, infer_output = decoding_layer(dec_input,enc_states,target_sequence_length,max_target_sentence_length,\n",
    "                                            rnn_size,num_layers,target_vocab_to_int,target_vocab_size,batch_size,keep_prob,\n",
    "                                            dec_embedding_size)\n",
    "    \n",
    "    return train_output, infer_output"
   ]
  },
  {
   "cell_type": "code",
   "execution_count": 658,
   "metadata": {},
   "outputs": [],
   "source": [
    "max_target_sentence_length = maximum\n",
    "\n",
    "train_graph = tf.Graph()\n",
    "with train_graph.as_default():\n",
    "    input_data, targets, target_sequence_length, max_target_sequence_length,lr, keep_prob = model_inputs()\n",
    "    train_logits, inference_logits = seq2seq_model(tf.reverse(input_data, [-1]),\n",
    "                                                   targets,\n",
    "                                                   keep_prob,\n",
    "                                                   batch_size,\n",
    "                                                   target_sequence_length,\n",
    "                                                   max_target_sequence_length,\n",
    "                                                   len(questionwordstoint),\n",
    "                                                   len(answerwordtoint),\n",
    "                                                   encoding_embedding_size,\n",
    "                                                   decoding_embedding_size,\n",
    "                                                   rnn_size,\n",
    "                                                   num_layers,\n",
    "                                                   questionwordstoint)\n",
    "    \n",
    "    training_logits = tf.identity(train_logits.rnn_output, name='logits')\n",
    "    inference_logits = tf.identity(inference_logits.sample_id, name='predictions')\n",
    "    masks = tf.sequence_mask(target_sequence_length, max_target_sequence_length, dtype=tf.float32, name='masks')\n",
    "\n",
    "    with tf.name_scope(\"optimization\"):\n",
    "        # Loss function - weighted softmax cross entropy\n",
    "        cost = tf.contrib.seq2seq.sequence_loss(\n",
    "            training_logits,\n",
    "            targets,\n",
    "            masks)\n",
    "\n",
    "        # Optimizer\n",
    "        optimizer = tf.train.AdamOptimizer(lr)\n",
    "\n",
    "        # Gradient Clipping\n",
    "        gradients = optimizer.compute_gradients(cost)\n",
    "        capped_gradients = [(tf.clip_by_value(grad, -1., 1.), var) for grad, var in gradients if grad is not None]\n",
    "        train_op = optimizer.apply_gradients(capped_gradients)"
   ]
  },
  {
   "cell_type": "code",
   "execution_count": 659,
   "metadata": {},
   "outputs": [],
   "source": [
    "def pad_sentence_batch(sentence_batch, pad_int):\n",
    "    \"\"\"Pad sentences with <PAD> so that each sentence of a batch has the same length\"\"\"\n",
    "    max_sentence = max([len(sentence) for sentence in sentence_batch])\n",
    "    return [sentence + [pad_int] * (max_sentence - len(sentence)) for sentence in sentence_batch]"
   ]
  },
  {
   "cell_type": "code",
   "execution_count": 714,
   "metadata": {},
   "outputs": [],
   "source": [
    "def get_batches(sources, targets, batch_size, source_pad_int, target_pad_int):\n",
    "    #Batch targets, sources, and the lengths of their sentences together\n",
    "    for batch_i in range(0, len(sources)//batch_size):\n",
    "        start_i = batch_i * batch_size\n",
    "\n",
    "        # Slice the right amount for the batch\n",
    "        sources_batch = sources[start_i:start_i + batch_size]\n",
    "        targets_batch = targets[start_i:start_i + batch_size]\n",
    "\n",
    "        # Pad\n",
    "        pad_sources_batch = np.array(pad_sentence_batch(sources_batch, source_pad_int))\n",
    "        pad_targets_batch = np.array(pad_sentence_batch(targets_batch, target_pad_int))\n",
    "\n",
    "        # Need the lengths for the _lengths parameters\n",
    "        pad_targets_lengths = []\n",
    "        for target in pad_targets_batch:\n",
    "            pad_targets_lengths.append(len(target))\n",
    "\n",
    "        pad_source_lengths = []\n",
    "        for source in pad_sources_batch:\n",
    "            pad_source_lengths.append(len(source))\n",
    "\n",
    "        yield pad_sources_batch, pad_targets_batch, pad_source_lengths, pad_targets_lengths"
   ]
  },
  {
   "cell_type": "code",
   "execution_count": 713,
   "metadata": {},
   "outputs": [
    {
     "data": {
      "text/plain": [
       "'\\ndef get_batches(questions, answers, batch_size):\\n    #Batch questions and answers together\\n    for batch_i in range(0, len(questions)//batch_size):\\n        start_i = batch_i * batch_size\\n        questions_batch = questions[start_i:start_i + batch_size]\\n        answers_batch = answers[start_i:start_i + batch_size]\\n        pad_questions_batch = np.array(pad_sentence_batch(questions_batch, qdic))\\n        pad_answers_batch = np.array(pad_sentence_batch(answers_batch, adic))\\n        yield pad_questions_batch, pad_answers_batch\\n'"
      ]
     },
     "execution_count": 713,
     "metadata": {},
     "output_type": "execute_result"
    }
   ],
   "source": [
    "\"\"\"\n",
    "def get_batches(questions, answers, batch_size):\n",
    "    #Batch questions and answers together\n",
    "    for batch_i in range(0, len(questions)//batch_size):\n",
    "        start_i = batch_i * batch_size\n",
    "        questions_batch = questions[start_i:start_i + batch_size]\n",
    "        answers_batch = answers[start_i:start_i + batch_size]\n",
    "        pad_questions_batch = np.array(pad_sentence_batch(questions_batch, qdic))\n",
    "        pad_answers_batch = np.array(pad_sentence_batch(answers_batch, adic))\n",
    "        yield pad_questions_batch, pad_answers_batch\n",
    "\"\"\""
   ]
  },
  {
   "cell_type": "code",
   "execution_count": 685,
   "metadata": {},
   "outputs": [],
   "source": [
    "def get_accuracy(target, logits):\n",
    "    \"\"\"\n",
    "    Calculate accuracy\n",
    "    \"\"\"\n",
    "    max_seq = max(target.shape[1], logits.shape[1])\n",
    "    if max_seq - target.shape[1]:\n",
    "        target = np.pad(\n",
    "            target,\n",
    "            [(0,0),(0,max_seq - target.shape[1])],\n",
    "            'constant')\n",
    "    if max_seq - logits.shape[1]:\n",
    "        logits = np.pad(\n",
    "            logits,\n",
    "            [(0,0),(0,max_seq - logits.shape[1])],\n",
    "            'constant')\n",
    "\n",
    "    return np.mean(np.equal(target, logits))"
   ]
  },
  {
   "cell_type": "code",
   "execution_count": 717,
   "metadata": {
    "scrolled": false
   },
   "outputs": [],
   "source": [
    "train_valid_split = int(len(sorted_clean_questions)*0.15)\n",
    "train_questions = sorted_clean_questions[train_valid_split:]\n",
    "train_answers = sorted_clean_answers[train_valid_split:]\n",
    "valid_questions = sorted_clean_questions[:train_valid_split]\n",
    "valid_answers = sorted_clean_answers[:train_valid_split]\n",
    "(valid_questions_batch, valid_answers_batch, valid_questions_lengths, valid_answers_lengths ) = next(get_batches(valid_questions,\n",
    "                                                                                valid_answers,batch_size,qdic['<PAD>'],adic['<PAD>']))  \n",
    "with tf.Session(graph=train_graph) as sess:\n",
    "    sess.run(tf.global_variables_initializer())\n",
    "\n",
    "    for epoch_i in range(epochs):\n",
    "        for batch_i, (source_batch, target_batch, sources_lengths, targets_lengths) in enumerate(\n",
    "                get_batches(train_questions, train_answers, batch_size,qdic['<PAD>'], adic['<PAD>'])):\n",
    "                \n",
    "               # _, loss = sess.run([train_op, cost],{input_data: source_batch,targets: target_batch,lr: learning_rate,\n",
    "                # target_sequence_length: targets_lengths,keep_prob: 0.5})\n",
    "                \n",
    "                if batch_i % display_step == 0 and batch_i > 0:\n",
    "                    batch_train_logits = sess.run(inference_logits,{input_data: source_batch,\n",
    "                                                        target_sequence_length: targets_lengths,keep_prob: 1.0})\n",
    "                    \n",
    "                    #batch_valid_logits = sess.run(inference_logits,{input_data: valid_questions_batch,\n",
    "                     #                                   target_sequence_length: valid_answers_lengths,keep_prob: 1.0})\n",
    "                    train_acc = get_accuracy(target_batch, batch_train_logits)\n"
   ]
  },
  {
   "cell_type": "code",
   "execution_count": 718,
   "metadata": {},
   "outputs": [
    {
     "data": {
      "text/plain": [
       "0.0"
      ]
     },
     "execution_count": 718,
     "metadata": {},
     "output_type": "execute_result"
    }
   ],
   "source": [
    "train_acc"
   ]
  },
  {
   "cell_type": "code",
   "execution_count": null,
   "metadata": {},
   "outputs": [],
   "source": []
  }
 ],
 "metadata": {
  "kernelspec": {
   "display_name": "Python 3",
   "language": "python",
   "name": "python3"
  },
  "language_info": {
   "codemirror_mode": {
    "name": "ipython",
    "version": 3
   },
   "file_extension": ".py",
   "mimetype": "text/x-python",
   "name": "python",
   "nbconvert_exporter": "python",
   "pygments_lexer": "ipython3",
   "version": "3.7.3"
  }
 },
 "nbformat": 4,
 "nbformat_minor": 2
}
